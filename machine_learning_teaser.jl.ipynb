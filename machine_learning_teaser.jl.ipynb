{
 "cells": [
  {
   "cell_type": "code",
   "execution_count": 6,
   "metadata": {},
   "outputs": [
    {
     "data": {
      "text/plain": [
       "mysum (generic function with 1 method)"
      ]
     },
     "execution_count": 6,
     "metadata": {},
     "output_type": "execute_result"
    }
   ],
   "source": [
    "function mysum(A)\n",
    "    s = zero(eltype(A))\n",
    "    for a in A\n",
    "        s += a\n",
    "    end\n",
    "    s\n",
    "end"
   ]
  },
  {
   "cell_type": "code",
   "execution_count": 16,
   "metadata": {},
   "outputs": [
    {
     "data": {
      "text/plain": [
       "1000-element Array{Float64,1}:\n",
       " 0.8613572552092577  \n",
       " 0.7682995892061684  \n",
       " 0.006366629178629957\n",
       " 0.6849803736720552  \n",
       " 0.4864783879346788  \n",
       " 0.281142804328707   \n",
       " 0.6205301366147007  \n",
       " 0.02814203268903448 \n",
       " 0.4079034312140468  \n",
       " 0.9133606408781365  \n",
       " 0.5171664017967628  \n",
       " 0.4328912422052902  \n",
       " 0.4905710609677765  \n",
       " ⋮                   \n",
       " 0.1607547024371465  \n",
       " 0.09105547969291417 \n",
       " 0.29557490013168564 \n",
       " 0.08563708925496627 \n",
       " 0.8178310652393379  \n",
       " 0.8333733514680097  \n",
       " 0.3373540327797946  \n",
       " 0.25982242720714543 \n",
       " 0.40843309825048957 \n",
       " 0.2749473737410537  \n",
       " 0.01165527016992396 \n",
       " 0.3746812950511187  "
      ]
     },
     "execution_count": 16,
     "metadata": {},
     "output_type": "execute_result"
    }
   ],
   "source": [
    "A = rand(1000)"
   ]
  },
  {
   "cell_type": "code",
   "execution_count": 64,
   "metadata": {},
   "outputs": [
    {
     "data": {
      "text/plain": [
       "is_even"
      ]
     },
     "execution_count": 64,
     "metadata": {},
     "output_type": "execute_result"
    }
   ],
   "source": [
    "@doc \"is_even(x::Int) -> Bool\" is_even"
   ]
  },
  {
   "cell_type": "code",
   "execution_count": 22,
   "metadata": {},
   "outputs": [
    {
     "data": {
      "text/plain": [
       "is_even (generic function with 1 method)"
      ]
     },
     "execution_count": 22,
     "metadata": {},
     "output_type": "execute_result"
    }
   ],
   "source": [
    "is_even(x::Int) = x % 2 == 0 # :: is Type anotation"
   ]
  },
  {
   "cell_type": "code",
   "execution_count": 18,
   "metadata": {},
   "outputs": [
    {
     "data": {
      "text/plain": [
       "250.938077947878"
      ]
     },
     "execution_count": 18,
     "metadata": {},
     "output_type": "execute_result"
    }
   ],
   "source": [
    "function sum_even(A)\n",
    "    s = 0.0\n",
    "    for i in eachindex(A)\n",
    "        if is_even(i)\n",
    "            s += A[i]\n",
    "        end\n",
    "    end\n",
    "    s\n",
    "end\n",
    "sum_even(A)    "
   ]
  },
  {
   "cell_type": "code",
   "execution_count": 66,
   "metadata": {},
   "outputs": [
    {
     "data": {
      "text/markdown": [
       "is_even(x::Int) -> Bool\n"
      ],
      "text/plain": [
       "  is_even(x::Int) -> Bool"
      ]
     },
     "execution_count": 66,
     "metadata": {},
     "output_type": "execute_result"
    }
   ],
   "source": [
    "@doc is_even"
   ]
  },
  {
   "cell_type": "code",
   "execution_count": null,
   "metadata": {},
   "outputs": [],
   "source": [
    "# Random Walk: Random walk an"
   ]
  }
 ],
 "metadata": {
  "kernelspec": {
   "display_name": "Julia 1.0.0",
   "language": "julia",
   "name": "julia-1.0"
  },
  "language_info": {
   "file_extension": ".jl",
   "mimetype": "application/julia",
   "name": "julia",
   "version": "1.0.0"
  }
 },
 "nbformat": 4,
 "nbformat_minor": 2
}
